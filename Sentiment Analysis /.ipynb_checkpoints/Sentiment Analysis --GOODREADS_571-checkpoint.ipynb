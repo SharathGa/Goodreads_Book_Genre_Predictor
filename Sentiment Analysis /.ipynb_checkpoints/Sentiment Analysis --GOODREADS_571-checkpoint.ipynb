{
 "cells": [
  {
   "cell_type": "code",
   "execution_count": 2,
   "metadata": {
    "collapsed": true
   },
   "outputs": [],
   "source": [
    "import numpy as np # linear algebra\n",
    "import pandas as pd # data processing, CSV file I/O (e.g. pd.read_csv)\n",
    "from sklearn.model_selection import train_test_split # function for splitting data to train and test sets\n",
    "from textblob import TextBlob\n",
    "import nltk\n",
    "from nltk.corpus import stopwords\n",
    "from nltk.classify import SklearnClassifier\n",
    "\n",
    "from wordcloud import WordCloud,STOPWORDS\n",
    "import matplotlib.pyplot as plt\n",
    "%matplotlib inline\n",
    "\n",
    "# Input data files are available in the \"../input/\" directory.\n",
    "# For example, running this (by clicking run or pressing Shift+Enter) will list the files in the input directory\n",
    "\n",
    "from subprocess import check_output"
   ]
  },
  {
   "cell_type": "code",
   "execution_count": 3,
   "metadata": {},
   "outputs": [
    {
     "name": "stderr",
     "output_type": "stream",
     "text": [
      "/anaconda3/lib/python3.6/site-packages/IPython/core/interactiveshell.py:2728: DtypeWarning: Columns (0,3,4,5,7,9,10,11,12,13,14,15,16,17,18,19,20,21,22) have mixed types. Specify dtype option on import or set low_memory=False.\n",
      "  interactivity=interactivity, compiler=compiler, result=result)\n"
     ]
    }
   ],
   "source": [
    "data = pd.read_csv(\"/Users/sharathg/Desktop/DataSets/goodbooks-10k/br.csv\",encoding ='latin-1')"
   ]
  },
  {
   "cell_type": "code",
   "execution_count": 4,
   "metadata": {},
   "outputs": [
    {
     "data": {
      "text/plain": [
       "Index(['bookID', 'title', 'author', 'rating', 'ratingsCount', 'reviewsCount',\n",
       "       'reviewerName', 'reviewerRatings', 'review', 'Unnamed: 9',\n",
       "       'Unnamed: 10', 'Unnamed: 11', 'Unnamed: 12', 'Unnamed: 13',\n",
       "       'Unnamed: 14', 'Unnamed: 15', 'Unnamed: 16', 'Unnamed: 17',\n",
       "       'Unnamed: 18', 'Unnamed: 19', 'Unnamed: 20', 'Unnamed: 21',\n",
       "       'Unnamed: 22'],\n",
       "      dtype='object')"
      ]
     },
     "execution_count": 4,
     "metadata": {},
     "output_type": "execute_result"
    }
   ],
   "source": [
    "data.columns"
   ]
  },
  {
   "cell_type": "markdown",
   "metadata": {},
   "source": [
    "*** We are dropping the unecessary col"
   ]
  },
  {
   "cell_type": "code",
   "execution_count": 5,
   "metadata": {
    "collapsed": true
   },
   "outputs": [],
   "source": [
    "data1 = data[['bookID','title','author','review','rating','reviewerName']]"
   ]
  },
  {
   "cell_type": "code",
   "execution_count": 6,
   "metadata": {},
   "outputs": [
    {
     "data": {
      "text/plain": [
       "<bound method DataFrame.info of         bookID                                              title  \\\n",
       "0            9  Unauthorized Harry Potter Book Seven News: \"Ha...   \n",
       "1            8  Harry Potter Boxed Set, Books 1-5 (Harry Potte...   \n",
       "2            3              Harry Potter and the Sorcerer's Stone   \n",
       "3            1  Harry Potter and the Half-Blood Prince (Harry ...   \n",
       "4            2  Harry Potter and the Order of the Phoenix (Har...   \n",
       "5            4  Harry Potter and the Chamber of Secrets (Harry...   \n",
       "6            7   The Harry Potter Collection (Harry Potter, #1-6)   \n",
       "7            5  Harry Potter and the Prisoner of Azkaban (Harr...   \n",
       "8         8053                   Charlie Oink (Easy Peasy People)   \n",
       "9            6  Harry Potter and the Goblet of Fire (Harry Pot...   \n",
       "10        9643  My Country Right or Left: 1940-1943 (The Colle...   \n",
       "11        9644                                        Why I Write   \n",
       "12        7209  Bella Tuscany & Under the Tuscan Sun (2 Book Set)   \n",
       "13        3732                  Selected Poems of Herman Melville   \n",
       "14        3404  The Senator and the Socialite: The True Story ...   \n",
       "15        3731               Great Short Works of Herman Melville   \n",
       "16        3729          Vance Packard & American Social Criticism   \n",
       "17        7214  Blue Like Jazz: Nonreligious Thoughts on Chris...   \n",
       "18        3733                   Redburn, White-Jacket, Moby-Dick   \n",
       "19        3730                              The Hidden Persuaders   \n",
       "20        7063                                   Moon Metro Paris   \n",
       "21        7056  Morality For Beautiful Girls (No. 1 Ladies' De...   \n",
       "22        7059  Morality for Beautiful Girls (No. 1 Ladies' De...   \n",
       "23        5669  My Days Are Swifter Than A Weaver's Shuttle: [...   \n",
       "24        7061  The No. 1 Ladies' Detective Agency  (No. 1 Lad...   \n",
       "25        7058  The Good Husband of Zebra Drive (No. 1 Ladies'...   \n",
       "26        7062                                  Paris to the Moon   \n",
       "27        7057  In the Company of Cheerful Ladies (No. 1 Ladie...   \n",
       "28        7064       The Belly of Paris (Les Rougon-Macquart, #3)   \n",
       "29         513                                   Sliding for Home   \n",
       "...        ...                                                ...   \n",
       "312043  339232                                  The Master Sniper   \n",
       "312044  339229                                             Friend   \n",
       "312045  347605                          Women, Sex, and Addiction   \n",
       "312046  339224  Invisible Currents: Nature's Lessons for the M...   \n",
       "312047  347612  The Old Man and His God: Discovering the Spiri...   \n",
       "312048  343469        Perfect Match (Love, New Orleans Style, #3)   \n",
       "312049  339231             The 47th Samurai (Bob Lee Swagger, #4)   \n",
       "312050  347611                                              India   \n",
       "312051  347613  Discovering the Americas: The Archive of the I...   \n",
       "312052  339226  In Search of the Good Life: The Ethics of Glob...   \n",
       "312053  347606        Yes, You Can: A Guide to Empowerment Groups   \n",
       "312054  339221  Landscapes of Privilege: The Politics of the A...   \n",
       "312055  339228                                      The Good Life   \n",
       "312056  347608  If the Buddha Were in Love: The Spiritual Guid...   \n",
       "312057  347604  Finding Joy: 101 Ways To Free Your Spirit And ...   \n",
       "312058  347607  A Home for the Heart: Creating Intimacy and Co...   \n",
       "312059  347609  The Japanese Way of the Artist: Living the Jap...   \n",
       "312060  339227                   Loving and Leaving the Good Life   \n",
       "312061  347555  The Warrior's Path: Wisdom from Contemporary M...   \n",
       "312062  347562  Second-Chance Hero (Redstone, Incorporated #5)...   \n",
       "312063  339225                                      The Good Life   \n",
       "312064  347558  Living Behind the Shield: A Modern Warrior's P...   \n",
       "312065  347557                                  The Warriors Path   \n",
       "312066  339215                                            Pandora   \n",
       "312067  347556                 Black Hawk: And the Warrior's Path   \n",
       "312068  347563  Second Chance: Healing Messages from the After...   \n",
       "312069  347559                                   A Warrior's Path   \n",
       "312070  339233                          Havana (Earl Swagger, #3)   \n",
       "312071  339220  The Gluten-Free Guide to New York: Everything ...   \n",
       "312072  347564                           Of Love And Other Demons   \n",
       "\n",
       "                          author  \\\n",
       "0         W. Frederick Zimmerman   \n",
       "1                   J.K. Rowling   \n",
       "2                   J.K. Rowling   \n",
       "3                   J.K. Rowling   \n",
       "4                   J.K. Rowling   \n",
       "5                   J.K. Rowling   \n",
       "6                   J.K. Rowling   \n",
       "7                   J.K. Rowling   \n",
       "8               Roger Hargreaves   \n",
       "9                   J.K. Rowling   \n",
       "10                 George Orwell   \n",
       "11                 George Orwell   \n",
       "12                 Frances Mayes   \n",
       "13               Herman Melville   \n",
       "14          Lawrence Otis Graham   \n",
       "15               Herman Melville   \n",
       "16               Daniel Horowitz   \n",
       "17                 Donald Miller   \n",
       "18               Herman Melville   \n",
       "19                 Vance Packard   \n",
       "20                 Avalon Travel   \n",
       "21        Alexander McCall Smith   \n",
       "22        Alexander McCall Smith   \n",
       "23                 Richard Ryley   \n",
       "24        Alexander McCall Smith   \n",
       "25        Alexander McCall Smith   \n",
       "26                   Adam Gopnik   \n",
       "27        Alexander McCall Smith   \n",
       "28                   Ìämile Zola   \n",
       "29                   Frank Moher   \n",
       "...                          ...   \n",
       "312043            Stephen Hunter   \n",
       "312044               Kobi Yamada   \n",
       "312045            Charlotte Kasl   \n",
       "312046               Wanda McGee   \n",
       "312047               Sudha Murty   \n",
       "312048              Hailey North   \n",
       "312049            Stephen Hunter   \n",
       "312050        Patricia J. Murphy   \n",
       "312051     Pedro Gonzalez Garcia   \n",
       "312052       Rebecca Todd Peters   \n",
       "312053            Charlotte Kasl   \n",
       "312054           James S. Duncan   \n",
       "312055                Yi-Fu Tuan   \n",
       "312056            Charlotte Kasl   \n",
       "312057            Charlotte Kasl   \n",
       "312058            Charlotte Kasl   \n",
       "312059                H.E. Davey   \n",
       "312060             Helen Nearing   \n",
       "312061              James Sidney   \n",
       "312062             Justine Davis   \n",
       "312063             Helen Nearing   \n",
       "312064           Brian Voncannon   \n",
       "312065             Karl Lassiter   \n",
       "312066              Jilly Cooper   \n",
       "312067          Roger L. Nichols   \n",
       "312068           Suzane Northrop   \n",
       "312069             Keith C. Wade   \n",
       "312070            Stephen Hunter   \n",
       "312071            Maria Roglieri   \n",
       "312072  Gabriel GarcÌ_a MÌÁrquez   \n",
       "\n",
       "                                                   review rating  \\\n",
       "0                                                     NaN   3.73   \n",
       "1                                                     NaN   4.77   \n",
       "2       I'm going to keep this brief since there isn't...   4.44   \n",
       "3       \"Read Harry Potter!\" they said. \"It'll be fun!...   4.54   \n",
       "4                                                     NaN   4.47   \n",
       "5                                                     NaN   4.38   \n",
       "6       I do not own this spiffy box set of Harry Pott...   4.73   \n",
       "7                                                     NaN   4.53   \n",
       "8                                                     NaN   4.33   \n",
       "9                                                     NaN   4.53   \n",
       "10                                                    NaN    4.3   \n",
       "11      Part 56 in the \"Another autobiographical revie...   4.04   \n",
       "12                                                    NaN   3.81   \n",
       "13      Herman MelvilleÛªs poetry is an enigma. The m...    3.9   \n",
       "14                                                    NaN   3.92   \n",
       "15      In the spring of 1853 after the failure of his...   4.05   \n",
       "16                                                    NaN      3   \n",
       "17      I thought of several different ways in which t...   3.92   \n",
       "18      I'm speechless. OK, maybe a few words. At firs...   4.18   \n",
       "19      This slim volume, already more than half a cen...   3.91   \n",
       "20                                                    NaN   3.33   \n",
       "21      Reading these books is more like visiting with...   3.97   \n",
       "22      Reading these books is more like visiting with...   3.97   \n",
       "23                                                    NaN      0   \n",
       "24      A lot of people are under the impression that ...   3.75   \n",
       "25      After quite a few years of living it, I've com...   4.06   \n",
       "26      I have to be honest. I bought this book becaus...   3.76   \n",
       "27      There is something so comforting about this se...   4.07   \n",
       "28      The cover of this novel should come with a war...    3.9   \n",
       "29                                                    NaN      1   \n",
       "...                                                   ...    ...   \n",
       "312043  I liked this better than the last book of his ...   3.81   \n",
       "312044                                                NaN   3.33   \n",
       "312045  I had a therapist in my early 20s who asked me...   4.32   \n",
       "312046                                                NaN      0   \n",
       "312047  We all know that, sudha murthy is prolific wri...   3.91   \n",
       "312048  The second re-release in digital format from H...   3.33   \n",
       "312049  I'm sure that some will read this book and rat...   3.81   \n",
       "312050                                                NaN      0   \n",
       "312051                                                NaN      5   \n",
       "312052                                                NaN   3.96   \n",
       "312053                                                NaN      4   \n",
       "312054                                                NaN      4   \n",
       "312055  One man's meditation on the definition of a go...   3.63   \n",
       "312056                                                NaN      4   \n",
       "312057  I haven't added any of the books in quite a wh...   3.88   \n",
       "312058                                                NaN   4.44   \n",
       "312059                                                NaN    4.3   \n",
       "312060  Currently reading it as I just received it a f...   4.12   \n",
       "312061  My upfront apology: Having drafted this review...   4.06   \n",
       "312062  Someone is sabotaging a Redstone airstrip buil...   3.92   \n",
       "312063  Aside from their politics, aside from their ph...   4.11   \n",
       "312064                                                NaN      0   \n",
       "312065                                                NaN      0   \n",
       "312066  Ahh, good old Jilly Cooper and her delightful ...    3.8   \n",
       "312067                                                NaN   3.85   \n",
       "312068                                                NaN    3.7   \n",
       "312069                                                NaN      0   \n",
       "312070  The novel is ÛÏHavanaÛ by Stephen Hunter. T...   3.82   \n",
       "312071                                                NaN    3.5   \n",
       "312072  This book starts off very slowly and almost sl...   3.98   \n",
       "\n",
       "                     reviewerName  \n",
       "0                       Charles G  \n",
       "1       ÏÀKatherine ElizabethÏÀ  \n",
       "2                            Lora  \n",
       "3               Cait (Paper Fury)  \n",
       "4          Diane ìÙ [ Lestrange ]  \n",
       "5                            ZoÌÇ  \n",
       "6                      Jen Holman  \n",
       "7                            Inge  \n",
       "8                          Ashton  \n",
       "9                            ZoÌÇ  \n",
       "10                           Rosa  \n",
       "11                       Matthias  \n",
       "12                      Catsalive  \n",
       "13                          Keith  \n",
       "14                    Kenne Jones  \n",
       "15                          James  \n",
       "16                      Jay Smith  \n",
       "17                        Seth T.  \n",
       "18                            Ken  \n",
       "19                           Alan  \n",
       "20                         Mackay  \n",
       "21                Anne Hawn Smith  \n",
       "22                Anne Hawn Smith  \n",
       "23                         BookDB  \n",
       "24            ebnewberry Newberry  \n",
       "25                          Donna  \n",
       "26                           Kara  \n",
       "27                         Laurel  \n",
       "28                       Kalliope  \n",
       "29                          Jason  \n",
       "...                           ...  \n",
       "312043                        Jim  \n",
       "312044                        Gee  \n",
       "312045                     Eileen  \n",
       "312046                     BookDB  \n",
       "312047             Saurabh Khetan  \n",
       "312048                      Gaele  \n",
       "312049         Mike (the Paladin)  \n",
       "312050                     BookDB  \n",
       "312051                    Gilbert  \n",
       "312052          Colleen Mccreight  \n",
       "312053                       Cris  \n",
       "312054                   Jennifer  \n",
       "312055                   Michaela  \n",
       "312056                     Dennis  \n",
       "312057                    Barbara  \n",
       "312058                       Lynn  \n",
       "312059                  Christine  \n",
       "312060              Josee Leclerc  \n",
       "312061             Bernie Gourley  \n",
       "312062                      Mojca  \n",
       "312063                      Mykle  \n",
       "312064                     BookDB  \n",
       "312065                       Leah  \n",
       "312066               Dangermousie  \n",
       "312067                       brad  \n",
       "312068                        Sun  \n",
       "312069                     BookDB  \n",
       "312070                   Jason C.  \n",
       "312071                      Aliya  \n",
       "312072                      Laura  \n",
       "\n",
       "[312073 rows x 6 columns]>"
      ]
     },
     "execution_count": 6,
     "metadata": {},
     "output_type": "execute_result"
    }
   ],
   "source": [
    "data1.info"
   ]
  },
  {
   "cell_type": "code",
   "execution_count": 7,
   "metadata": {},
   "outputs": [
    {
     "data": {
      "text/plain": [
       "bookID               0\n",
       "title                2\n",
       "author               2\n",
       "review          183686\n",
       "rating               2\n",
       "reviewerName       543\n",
       "dtype: int64"
      ]
     },
     "execution_count": 7,
     "metadata": {},
     "output_type": "execute_result"
    }
   ],
   "source": [
    "data1.isnull().sum()\n",
    "# So we can see the total null values in our subset dataset here . "
   ]
  },
  {
   "cell_type": "code",
   "execution_count": 9,
   "metadata": {
    "collapsed": true
   },
   "outputs": [],
   "source": [
    "datan = data1.dropna()"
   ]
  },
  {
   "cell_type": "code",
   "execution_count": 10,
   "metadata": {},
   "outputs": [
    {
     "name": "stdout",
     "output_type": "stream",
     "text": [
      "<class 'pandas.core.frame.DataFrame'>\n",
      "Int64Index: 128387 entries, 2 to 312072\n",
      "Data columns (total 6 columns):\n",
      "bookID          128387 non-null object\n",
      "title           128387 non-null object\n",
      "author          128387 non-null object\n",
      "review          128387 non-null object\n",
      "rating          128387 non-null object\n",
      "reviewerName    128387 non-null object\n",
      "dtypes: object(6)\n",
      "memory usage: 6.9+ MB\n"
     ]
    }
   ],
   "source": [
    "datan.info()"
   ]
  },
  {
   "cell_type": "code",
   "execution_count": 48,
   "metadata": {},
   "outputs": [
    {
     "data": {
      "text/plain": [
       "bookID          0\n",
       "title           0\n",
       "author          0\n",
       "review          0\n",
       "rating          0\n",
       "reviewerName    0\n",
       "dtype: int64"
      ]
     },
     "execution_count": 48,
     "metadata": {},
     "output_type": "execute_result"
    }
   ],
   "source": [
    "datan.isnull().sum()"
   ]
  },
  {
   "cell_type": "code",
   "execution_count": 49,
   "metadata": {
    "collapsed": true
   },
   "outputs": [],
   "source": [
    "# The above result shows that we have a clean dataset without any null values . \n"
   ]
  },
  {
   "cell_type": "code",
   "execution_count": 50,
   "metadata": {},
   "outputs": [
    {
     "data": {
      "text/html": [
       "<div>\n",
       "<style scoped>\n",
       "    .dataframe tbody tr th:only-of-type {\n",
       "        vertical-align: middle;\n",
       "    }\n",
       "\n",
       "    .dataframe tbody tr th {\n",
       "        vertical-align: top;\n",
       "    }\n",
       "\n",
       "    .dataframe thead th {\n",
       "        text-align: right;\n",
       "    }\n",
       "</style>\n",
       "<table border=\"1\" class=\"dataframe\">\n",
       "  <thead>\n",
       "    <tr style=\"text-align: right;\">\n",
       "      <th></th>\n",
       "      <th>bookID</th>\n",
       "      <th>title</th>\n",
       "      <th>author</th>\n",
       "      <th>review</th>\n",
       "      <th>rating</th>\n",
       "      <th>reviewerName</th>\n",
       "    </tr>\n",
       "  </thead>\n",
       "  <tbody>\n",
       "    <tr>\n",
       "      <th>2</th>\n",
       "      <td>3</td>\n",
       "      <td>Harry Potter and the Sorcerer's Stone</td>\n",
       "      <td>J.K. Rowling</td>\n",
       "      <td>I'm going to keep this brief since there isn't...</td>\n",
       "      <td>4.44</td>\n",
       "      <td>Lora</td>\n",
       "    </tr>\n",
       "    <tr>\n",
       "      <th>3</th>\n",
       "      <td>1</td>\n",
       "      <td>Harry Potter and the Half-Blood Prince (Harry ...</td>\n",
       "      <td>J.K. Rowling</td>\n",
       "      <td>\"Read Harry Potter!\" they said. \"It'll be fun!...</td>\n",
       "      <td>4.54</td>\n",
       "      <td>Cait (Paper Fury)</td>\n",
       "    </tr>\n",
       "    <tr>\n",
       "      <th>6</th>\n",
       "      <td>7</td>\n",
       "      <td>The Harry Potter Collection (Harry Potter, #1-6)</td>\n",
       "      <td>J.K. Rowling</td>\n",
       "      <td>I do not own this spiffy box set of Harry Pott...</td>\n",
       "      <td>4.73</td>\n",
       "      <td>Jen Holman</td>\n",
       "    </tr>\n",
       "    <tr>\n",
       "      <th>11</th>\n",
       "      <td>9644</td>\n",
       "      <td>Why I Write</td>\n",
       "      <td>George Orwell</td>\n",
       "      <td>Part 56 in the \"Another autobiographical revie...</td>\n",
       "      <td>4.04</td>\n",
       "      <td>Matthias</td>\n",
       "    </tr>\n",
       "    <tr>\n",
       "      <th>13</th>\n",
       "      <td>3732</td>\n",
       "      <td>Selected Poems of Herman Melville</td>\n",
       "      <td>Herman Melville</td>\n",
       "      <td>Herman MelvilleÛªs poetry is an enigma. The m...</td>\n",
       "      <td>3.9</td>\n",
       "      <td>Keith</td>\n",
       "    </tr>\n",
       "  </tbody>\n",
       "</table>\n",
       "</div>"
      ],
      "text/plain": [
       "   bookID                                              title           author  \\\n",
       "2       3              Harry Potter and the Sorcerer's Stone     J.K. Rowling   \n",
       "3       1  Harry Potter and the Half-Blood Prince (Harry ...     J.K. Rowling   \n",
       "6       7   The Harry Potter Collection (Harry Potter, #1-6)     J.K. Rowling   \n",
       "11   9644                                        Why I Write    George Orwell   \n",
       "13   3732                  Selected Poems of Herman Melville  Herman Melville   \n",
       "\n",
       "                                               review rating  \\\n",
       "2   I'm going to keep this brief since there isn't...   4.44   \n",
       "3   \"Read Harry Potter!\" they said. \"It'll be fun!...   4.54   \n",
       "6   I do not own this spiffy box set of Harry Pott...   4.73   \n",
       "11  Part 56 in the \"Another autobiographical revie...   4.04   \n",
       "13  Herman MelvilleÛªs poetry is an enigma. The m...    3.9   \n",
       "\n",
       "         reviewerName  \n",
       "2                Lora  \n",
       "3   Cait (Paper Fury)  \n",
       "6          Jen Holman  \n",
       "11           Matthias  \n",
       "13              Keith  "
      ]
     },
     "execution_count": 50,
     "metadata": {},
     "output_type": "execute_result"
    }
   ],
   "source": [
    "datan.head()"
   ]
  },
  {
   "cell_type": "code",
   "execution_count": 51,
   "metadata": {},
   "outputs": [
    {
     "data": {
      "text/plain": [
       "128387"
      ]
     },
     "execution_count": 51,
     "metadata": {},
     "output_type": "execute_result"
    }
   ],
   "source": [
    "len(datan.review)\n",
    "# We have 128387 reviews on book to play with . "
   ]
  },
  {
   "cell_type": "markdown",
   "metadata": {},
   "source": [
    "**Splitting the data in to test and train datasets**\n"
   ]
  },
  {
   "cell_type": "code",
   "execution_count": 52,
   "metadata": {
    "collapsed": true
   },
   "outputs": [],
   "source": [
    "train ,test = train_test_split(datan,test_size =0.2)"
   ]
  },
  {
   "cell_type": "code",
   "execution_count": 53,
   "metadata": {},
   "outputs": [
    {
     "data": {
      "text/plain": [
       "True"
      ]
     },
     "execution_count": 53,
     "metadata": {},
     "output_type": "execute_result"
    }
   ],
   "source": [
    "len(train) +len(test)== len(datan)\n",
    "#No loss of data here . chill ! "
   ]
  },
  {
   "cell_type": "code",
   "execution_count": 54,
   "metadata": {},
   "outputs": [
    {
     "data": {
      "text/html": [
       "<div>\n",
       "<style scoped>\n",
       "    .dataframe tbody tr th:only-of-type {\n",
       "        vertical-align: middle;\n",
       "    }\n",
       "\n",
       "    .dataframe tbody tr th {\n",
       "        vertical-align: top;\n",
       "    }\n",
       "\n",
       "    .dataframe thead th {\n",
       "        text-align: right;\n",
       "    }\n",
       "</style>\n",
       "<table border=\"1\" class=\"dataframe\">\n",
       "  <thead>\n",
       "    <tr style=\"text-align: right;\">\n",
       "      <th></th>\n",
       "      <th>bookID</th>\n",
       "      <th>title</th>\n",
       "      <th>author</th>\n",
       "      <th>review</th>\n",
       "      <th>rating</th>\n",
       "      <th>reviewerName</th>\n",
       "    </tr>\n",
       "  </thead>\n",
       "  <tbody>\n",
       "    <tr>\n",
       "      <th>30882</th>\n",
       "      <td>31947</td>\n",
       "      <td>Philosophy and the Mirror of Nature</td>\n",
       "      <td>Richard M. Rorty</td>\n",
       "      <td>This is a difficult book to review. Rorty, you...</td>\n",
       "      <td>3.99</td>\n",
       "      <td>Manny</td>\n",
       "    </tr>\n",
       "    <tr>\n",
       "      <th>31334</th>\n",
       "      <td>32486</td>\n",
       "      <td>The Bedford Companion to Shakespeare: An Intro...</td>\n",
       "      <td>Russ McDonald</td>\n",
       "      <td>A Review of The Bedford Companion to Shakespea...</td>\n",
       "      <td>3.91</td>\n",
       "      <td>Jessica</td>\n",
       "    </tr>\n",
       "    <tr>\n",
       "      <th>42308</th>\n",
       "      <td>43391</td>\n",
       "      <td>Lettres ÌÊ un jeune rebelle</td>\n",
       "      <td>Christopher Hitchens</td>\n",
       "      <td>Death hath wrought a pernicious dent in the er...</td>\n",
       "      <td>4.14</td>\n",
       "      <td>Jacob J.</td>\n",
       "    </tr>\n",
       "    <tr>\n",
       "      <th>273467</th>\n",
       "      <td>300778</td>\n",
       "      <td>Good Eating</td>\n",
       "      <td>Stephen H. Webb</td>\n",
       "      <td>Stephen Webb's book was an early entry in the ...</td>\n",
       "      <td>3.2</td>\n",
       "      <td>Kyle</td>\n",
       "    </tr>\n",
       "    <tr>\n",
       "      <th>19859</th>\n",
       "      <td>20694</td>\n",
       "      <td>Julius, the Baby of the World</td>\n",
       "      <td>Kevin Henkes</td>\n",
       "      <td>Lily is not pleased when her parents bring hom...</td>\n",
       "      <td>4.27</td>\n",
       "      <td>Treasa</td>\n",
       "    </tr>\n",
       "  </tbody>\n",
       "</table>\n",
       "</div>"
      ],
      "text/plain": [
       "        bookID                                              title  \\\n",
       "30882    31947                Philosophy and the Mirror of Nature   \n",
       "31334    32486  The Bedford Companion to Shakespeare: An Intro...   \n",
       "42308    43391                        Lettres ÌÊ un jeune rebelle   \n",
       "273467  300778                                        Good Eating   \n",
       "19859    20694                      Julius, the Baby of the World   \n",
       "\n",
       "                      author  \\\n",
       "30882       Richard M. Rorty   \n",
       "31334          Russ McDonald   \n",
       "42308   Christopher Hitchens   \n",
       "273467       Stephen H. Webb   \n",
       "19859           Kevin Henkes   \n",
       "\n",
       "                                                   review rating reviewerName  \n",
       "30882   This is a difficult book to review. Rorty, you...   3.99        Manny  \n",
       "31334   A Review of The Bedford Companion to Shakespea...   3.91      Jessica  \n",
       "42308   Death hath wrought a pernicious dent in the er...   4.14     Jacob J.  \n",
       "273467  Stephen Webb's book was an early entry in the ...    3.2         Kyle  \n",
       "19859   Lily is not pleased when her parents bring hom...   4.27       Treasa  "
      ]
     },
     "execution_count": 54,
     "metadata": {},
     "output_type": "execute_result"
    }
   ],
   "source": [
    "train.head()"
   ]
  },
  {
   "cell_type": "code",
   "execution_count": 55,
   "metadata": {
    "scrolled": true
   },
   "outputs": [
    {
     "data": {
      "text/plain": [
       "Index(['bookID', 'title', 'author', 'review', 'rating', 'reviewerName'], dtype='object')"
      ]
     },
     "execution_count": 55,
     "metadata": {},
     "output_type": "execute_result"
    }
   ],
   "source": [
    "train.columns"
   ]
  },
  {
   "cell_type": "code",
   "execution_count": 56,
   "metadata": {
    "collapsed": true
   },
   "outputs": [],
   "source": [
    "# nltk.download()"
   ]
  },
  {
   "cell_type": "markdown",
   "metadata": {},
   "source": [
    "The best classifiers have around , 80% accuracy and we will try to be more efficient here and see what is up . "
   ]
  },
  {
   "cell_type": "code",
   "execution_count": 57,
   "metadata": {},
   "outputs": [
    {
     "name": "stdout",
     "output_type": "stream",
     "text": [
      "This is a difficult book to review. Rorty, you soon realize, is an exceptionally clever person. He seems to have all of philosophy at his fingertips: he presupposes a good knowledge, just to name the more important candidates, of Plato, Aristotle, Descartes, Leibniz, Spinoza, Locke, Hume, Kant, Hegel, Nietzsche, Dewey, Frege, Russell, Husserl, Wittgenstein, Moore, Heidegger, Sartre, Quine, Davidson, Feyerabend, Kuhn, Nagel, Derrida, Sellars, Strawson and Putnam. (I can, with considerable goodwill, tick maybe a quarter of this list). He frequently uses technical terms in German, French, Latin and Classical Greek, sometimes with a gloss but usually without. Worst of all, you can't even get annoyed with him for being dull and pedantic; the bastard writes well and is often funny. It's rather intimidating.At first, it may look as though he's showing off, but after a while a clear plan becomes visible. Rorty has set himself three main goals. The first, the one in the title, is to argue against the philosophical position which he calls \"the mirror of Nature\": the assumption that the mind is in some sense a reflection of the world. Rorty sees this idea both as being central to a large part of existing philosophy, and also as seriously mistaken. Having recently read Nagel's horrible Mind and Cosmos, I was receptive to Rorty's arguments against approaches where some kind of mind-stuff - \"qualia\", \"raw feels\" or whatever - is considered part of the world. Rorty takes as his paradigmatic example the concept of \"pain\", and questions the claim that \"pains\" should be conceived of as mental objects. There is an elegant science-fiction-like sequence featuring a hypothetical race called the Antipodeans, who have a good knowledge of neurology and only talk about pain in terms of neural correlates. Thus, when we say \"I have have a headache\", an Antipodean will say something like \"My C-fibres are being stimulated\". Rorty imagines how we might communicate with Antipodeans, and argues, in Wittgensteinian fashion, that our talk of \"pain\" is in fact no more than talk. There is nothing we could ever do, even with the most sophicated imaginable neural imaging techniques, to determine whether the Antipodeans \"really feel pain\", or, indeed, \"really have minds\". I liked the Antipodeans, and I hope a science-fiction writer some day considers fleshing out this sketch into a novel. Though they may seem a little counterintuitive, compared to the bizarre positions that Nagel is forced to take up they were positively commonsensical.But how did we get into this odd situation of believing in mirror-like minds? (Borrowing a phrase from Isabella's speech in Measure for Measure, Rorty often refers ironically to our \"Glassy Essences\"). He gradually introduces his second theme. Far from being a fixed, eternal idea, an inescapable part of our way of thinking about the world, Rorty considers that the Glassy Essence, in its present form, is a relatively recent invention of Descartes; moreover, he claims that the mainstream idea of philosophy, as we think of it today, is largely due to Kant and the post-Kantian school, who diligently reconstructed the past history of the subject to make it logically lead up to them. Rorty is acidly amusing on the subject of Kant, whom he describes as having \"professionalized\" philosophy, at least in the sense that it became impossible for anyone to call themselves a philosopher without having mastered his system. In general, Rorty encourages the reader to consider philosophy as a normal historical process, rather than as an inevitable progression towards a fixed, timeless, truth; if I understand correctly, this part of his argument is roughly based on Heidegger.If philosophy is part of history, and not about timeless truths, then how should we conceptualize it? This leads to Rorty's third theme: he suggests that we do better to see the development of philosophical thought simply as a huge conversation, carried out between the many philosophical thinkers of the last two and a half millennia. There are no ultimate answers, just the ongoing back and forth of reasoned discussion about questions. This theme, I believe, is based in the thought of Dewey. Rorty argues for what he calls a hermeneutic approach; we should accept that there is never going to be a single framework which encompasses everything. There will, rather, be a variety of different frameworks which are more or less incompatible with each other, but which all have something to offer. I was particularly struck by one piece of advice he gives when approaching the work of any great thinker whose ideas are as yet unfamiliar: you should look for statements which at first sight appear completely idiotic and nonsensical, and ask yourself what they might mean if they did in fact make sense. Once a reasonable hypothesis has been found, many other things may turn out to mean something different from what you first imagined. I find Rorty's ideas thought-provoking and helpful, not least with regard to the attacks currently being made on philosophy by the more outspoken atheist scientists. Stephen Hawking, for example, attracted a good deal of attention a couple of years ago when he said in The Grand Design that \"philosophy is dead\". At the time, I was just annoyed, but having read Rorty's book I look at it in a different way. How does this fit into the ongoing historical conversation? And what does Hawking mean by his apparently nonsensical statement? I must try out some of the new conceptual tools I have acquired.\n",
      "{'neg': 0.073, 'neu': 0.827, 'pos': 0.1, 'compound': 0.9798}\n"
     ]
    },
    {
     "ename": "IndexError",
     "evalue": "tuple index out of range",
     "output_type": "error",
     "traceback": [
      "\u001b[0;31m---------------------------------------------------------------------------\u001b[0m",
      "\u001b[0;31mIndexError\u001b[0m                                Traceback (most recent call last)",
      "\u001b[0;32m<ipython-input-57-3f90bae7eb99>\u001b[0m in \u001b[0;36m<module>\u001b[0;34m()\u001b[0m\n\u001b[1;32m      6\u001b[0m     \u001b[0mprint\u001b[0m\u001b[0;34m(\u001b[0m\u001b[0mss\u001b[0m\u001b[0;34m)\u001b[0m\u001b[0;34m\u001b[0m\u001b[0m\n\u001b[1;32m      7\u001b[0m     \u001b[0;32mfor\u001b[0m \u001b[0mk\u001b[0m \u001b[0;32min\u001b[0m \u001b[0msorted\u001b[0m\u001b[0;34m(\u001b[0m\u001b[0mss\u001b[0m\u001b[0;34m)\u001b[0m\u001b[0;34m:\u001b[0m\u001b[0;34m\u001b[0m\u001b[0m\n\u001b[0;32m----> 8\u001b[0;31m         \u001b[0mprint\u001b[0m\u001b[0;34m(\u001b[0m\u001b[0;34m'{1}: {2},'\u001b[0m\u001b[0;34m.\u001b[0m\u001b[0mformat\u001b[0m\u001b[0;34m(\u001b[0m\u001b[0mk\u001b[0m\u001b[0;34m,\u001b[0m\u001b[0mss\u001b[0m\u001b[0;34m[\u001b[0m\u001b[0mk\u001b[0m\u001b[0;34m]\u001b[0m\u001b[0;34m)\u001b[0m\u001b[0;34m,\u001b[0m\u001b[0mend\u001b[0m \u001b[0;34m=\u001b[0m\u001b[0;34m\"\"\u001b[0m\u001b[0;34m)\u001b[0m\u001b[0;34m\u001b[0m\u001b[0m\n\u001b[0m\u001b[1;32m      9\u001b[0m         \u001b[0mprint\u001b[0m\u001b[0;34m(\u001b[0m\u001b[0;34m)\u001b[0m\u001b[0;34m\u001b[0m\u001b[0m\n",
      "\u001b[0;31mIndexError\u001b[0m: tuple index out of range"
     ]
    }
   ],
   "source": [
    "from nltk.sentiment.vader import SentimentIntensityAnalyzer\n",
    "sid = SentimentIntensityAnalyzer()\n",
    "for sentences in train.review.values[:10]:\n",
    "    print(sentences)\n",
    "    ss = sid.polarity_scores(sentences)\n",
    "    print(ss)\n",
    "    for k in sorted(ss):\n",
    "        print('{1}: {2},'.format(k,ss[k]),end =\"\")\n",
    "        print()"
   ]
  },
  {
   "cell_type": "markdown",
   "metadata": {},
   "source": [
    "** There are some unicode values and some reviews in other languages , so before removing any stopwords and further analysis , we weed out the reviews not in english and other conversion errors using langdetect. **.\n",
    "\n",
    "\n",
    "*** Here we are also trying feeding the unicode error values to check , if they are identified by the package as different language (This is a hack, we use to minimise extra work) . \n"
   ]
  },
  {
   "cell_type": "code",
   "execution_count": 58,
   "metadata": {},
   "outputs": [
    {
     "ename": "NameError",
     "evalue": "name 'detect' is not defined",
     "output_type": "error",
     "traceback": [
      "\u001b[0;31m---------------------------------------------------------------------------\u001b[0m",
      "\u001b[0;31mNameError\u001b[0m                                 Traceback (most recent call last)",
      "\u001b[0;32m<ipython-input-58-94044b1c7cbb>\u001b[0m in \u001b[0;36m<module>\u001b[0;34m()\u001b[0m\n\u001b[0;32m----> 1\u001b[0;31m \u001b[0mdetect\u001b[0m\u001b[0;34m(\u001b[0m\u001b[0;34m'¯¬ôà¯¤ ôô_ ¯¤ôã¯¨¯±ôö¯Â ¯£ôö ¯¤¯±¯»¯ø¯¤¯Á ¯Çôö¯¬¯¤ôÜ ôÉ¯¤ôöôãôã¯_ôö¯Â¯© ¯¤ôã¯»ô_ ¯»¯_¯»ôÉô_ ¯¬¯¦ôã ¯¤ôã¯_ô_¯á¯© ¯¬¯_¯_¯¤¯ø¯© ôö¯»¯µôÉ¯» ôã¯£ô  ¯¤ôã¯_¯»¯¤¯» ¯_ô_¯¬ ¯µôö¯»ôà¯¤ ô_¯_ôãôä ¯_ôãôä ¯Âôö¯_ôà¯¤¯£ôö ¯»¯»¯_ôöôã ¯_ô_¯¤¯»ôà¯¤ ôã¯µ¯±¯¤¯¨ ô_ôöôÉô_ ôÉ¯_ ¯¤ôã¯_ôö¯Â ôö¯»¯µ¯¬¯_ ¯»ô_ôÉ¯© ôÉôÄ¯±¯±¯© ôô_ ¯£ôôã¯¤ôÉô ¯¤ ¯¤ôã¯_¯üô_ôÉ¯© ôãôÛ ¯¤ôãôöôãô_¯© ¯¤ôãô ôÄ¯øô_¯©ôãôãôÄ¯¤¯_ô  ¯¤ôã¯¡ô_ ô ¯µô ¯_ ôÉô ôà ¯¦¯_ô_¯© ôöôÉ¯Â¯±ôÉ¯¤ôÜ ôã¯£ô ôà ¯_¯¬¯± ¯¤ôã¯_¯µôö¯± ôãôÉ ô_¯Â¯ø ¯_¯øôã¯¤ôÜ ôöôã¯¤ ô ¯_¯¤ôà¯© ôôã¯Â¯£ ôãôã¯_ô_ôã¯© ôö¯¤ôã¯»¯¨¯¤¯¬¯Ç ôö¯¤ôã¯»ôÄô_ô ôÉ¯_ ¯¤ôã¯üôã¯¤ôÉ ôà¯¡¯¤ ôàôö ¯¤ôãôÄ¯¤¯_ô  ¯¤ôã¯¡ô_ ¯_ôÄôÉ ¯_ôãô_ôà ¯¬¯»ô¯»ô_¯» ¯±¯£¯_ôà ¯¬¯¤ôã¯_¯Â¯¤¯±¯© ôöôà¯¡¯¤ ôàôö ¯¤ôãôÉ¯Â¯»ôÉ¯_ ¯¤ôã¯¡ô_ ô_ô ¯¦¯_ ¯_ôô ¯¤ôÜ ¯¬¯«¯±ô_¯¤ôÜ ô_¯»ô¯±¯Â ¯_ôãôä ¯¤ôã¯üôãôÉ ôö¯¤ôã¯»¯Âô ô_ ôöô_¯«¯¤¯±ôÄ ôô_ôà ¯¬ôãôàô¯© ôöôã¯¡¯© ôö¯_¯«ô_¯©ô_¯«¯¤¯±ôÄ ¯¤ôã¯±¯Â¯¤ôã ôô_ ¯µô ¯_ ¯¤ôã¯£¯«ôã¯¤¯Á ôöôàôÉ ôÉôÉ¯»ôã¯_ôöô  ¯_ôàôö¯¤ôÜ ôö¯«¯_ôö¯±¯¤ôÜ ¯_ôÉô_ôâ¯¤ôÜ ¯¬¯¤ôã¯±ô¯_¯© ôö¯»¯«¯¤¯±ôÄ ¯¤ôãô ¯_¯¤¯Á ôô_ ¯»¯«ô_ô_¯_ ôâ¯á¯_¯© ¯¤ôãôã¯_ôÉ ¯¤ôã¯»ô_ ôã¯¤¯¬¯ø ôö¯£ô  ¯»¯øôÉôä ¯»ô ôô_¯_¯¤ôÜ ôãôàô  ¯_ô  ôÄôã ¯¤ôãôÄ¯¬¯» ôö¯¤ôã¯_¯±ôÉ¯¤ô  ôö¯¤ôã¯üôãôÉ ¯¤ôã¯¡ô_ ¯£¯µ¯¬¯_ ¯_¯¤¯ø¯© ô_ôöôÉô_¯©ôö¯»¯»¯_ôöôã ôâ¯±ô_¯© ôÉô  ¯¤ôã¯¬¯«¯± ¯´ôãôä ôÉ¯_¯»ô ôâ¯_ ¯¢¯øôÉô_ ô_ôô_¯¦ ¯¬¯±¯¤¯_¯_¯© ¯¤ôã¯øôÉ ¯¤ôãôÉ¯«¯¬¯_ ¯¬¯¦¯_ôÄ¯¤¯» ôö¯_¯«ô_¯© ôö ¯«¯_ôö¯± ¯_ôâô_¯± ¯¬¯¤ôã¯»¯«ôô_ôÉô  ¯£ô ¯¤ ôã¯£ôâô_ôÉ ¯¡ôãôÄ ¯£ô_ôà¯¤ ¯¤ôãôâ¯±¯¤¯Á ¯¤ôã¯£¯_¯_¯¤¯Á¯Ù'\u001b[0m\u001b[0;34m)\u001b[0m\u001b[0;34m\u001b[0m\u001b[0m\n\u001b[0m",
      "\u001b[0;31mNameError\u001b[0m: name 'detect' is not defined"
     ]
    }
   ],
   "source": [
    "detect('¯¬ôà¯¤ ôô_ ¯¤ôã¯¨¯±ôö¯Â ¯£ôö ¯¤¯±¯»¯ø¯¤¯Á ¯Çôö¯¬¯¤ôÜ ôÉ¯¤ôöôãôã¯_ôö¯Â¯© ¯¤ôã¯»ô_ ¯»¯_¯»ôÉô_ ¯¬¯¦ôã ¯¤ôã¯_ô_¯á¯© ¯¬¯_¯_¯¤¯ø¯© ôö¯»¯µôÉ¯» ôã¯£ô  ¯¤ôã¯_¯»¯¤¯» ¯_ô_¯¬ ¯µôö¯»ôà¯¤ ô_¯_ôãôä ¯_ôãôä ¯Âôö¯_ôà¯¤¯£ôö ¯»¯»¯_ôöôã ¯_ô_¯¤¯»ôà¯¤ ôã¯µ¯±¯¤¯¨ ô_ôöôÉô_ ôÉ¯_ ¯¤ôã¯_ôö¯Â ôö¯»¯µ¯¬¯_ ¯»ô_ôÉ¯© ôÉôÄ¯±¯±¯© ôô_ ¯£ôôã¯¤ôÉô ¯¤ ¯¤ôã¯_¯üô_ôÉ¯© ôãôÛ ¯¤ôãôöôãô_¯© ¯¤ôãô ôÄ¯øô_¯©ôãôãôÄ¯¤¯_ô  ¯¤ôã¯¡ô_ ô ¯µô ¯_ ôÉô ôà ¯¦¯_ô_¯© ôöôÉ¯Â¯±ôÉ¯¤ôÜ ôã¯£ô ôà ¯_¯¬¯± ¯¤ôã¯_¯µôö¯± ôãôÉ ô_¯Â¯ø ¯_¯øôã¯¤ôÜ ôöôã¯¤ ô ¯_¯¤ôà¯© ôôã¯Â¯£ ôãôã¯_ô_ôã¯© ôö¯¤ôã¯»¯¨¯¤¯¬¯Ç ôö¯¤ôã¯»ôÄô_ô ôÉ¯_ ¯¤ôã¯üôã¯¤ôÉ ôà¯¡¯¤ ôàôö ¯¤ôãôÄ¯¤¯_ô  ¯¤ôã¯¡ô_ ¯_ôÄôÉ ¯_ôãô_ôà ¯¬¯»ô¯»ô_¯» ¯±¯£¯_ôà ¯¬¯¤ôã¯_¯Â¯¤¯±¯© ôöôà¯¡¯¤ ôàôö ¯¤ôãôÉ¯Â¯»ôÉ¯_ ¯¤ôã¯¡ô_ ô_ô ¯¦¯_ ¯_ôô ¯¤ôÜ ¯¬¯«¯±ô_¯¤ôÜ ô_¯»ô¯±¯Â ¯_ôãôä ¯¤ôã¯üôãôÉ ôö¯¤ôã¯»¯Âô ô_ ôöô_¯«¯¤¯±ôÄ ôô_ôà ¯¬ôãôàô¯© ôöôã¯¡¯© ôö¯_¯«ô_¯©ô_¯«¯¤¯±ôÄ ¯¤ôã¯±¯Â¯¤ôã ôô_ ¯µô ¯_ ¯¤ôã¯£¯«ôã¯¤¯Á ôöôàôÉ ôÉôÉ¯»ôã¯_ôöô  ¯_ôàôö¯¤ôÜ ôö¯«¯_ôö¯±¯¤ôÜ ¯_ôÉô_ôâ¯¤ôÜ ¯¬¯¤ôã¯±ô¯_¯© ôö¯»¯«¯¤¯±ôÄ ¯¤ôãô ¯_¯¤¯Á ôô_ ¯»¯«ô_ô_¯_ ôâ¯á¯_¯© ¯¤ôãôã¯_ôÉ ¯¤ôã¯»ô_ ôã¯¤¯¬¯ø ôö¯£ô  ¯»¯øôÉôä ¯»ô ôô_¯_¯¤ôÜ ôãôàô  ¯_ô  ôÄôã ¯¤ôãôÄ¯¬¯» ôö¯¤ôã¯_¯±ôÉ¯¤ô  ôö¯¤ôã¯üôãôÉ ¯¤ôã¯¡ô_ ¯£¯µ¯¬¯_ ¯_¯¤¯ø¯© ô_ôöôÉô_¯©ôö¯»¯»¯_ôöôã ôâ¯±ô_¯© ôÉô  ¯¤ôã¯¬¯«¯± ¯´ôãôä ôÉ¯_¯»ô ôâ¯_ ¯¢¯øôÉô_ ô_ôô_¯¦ ¯¬¯±¯¤¯_¯_¯© ¯¤ôã¯øôÉ ¯¤ôãôÉ¯«¯¬¯_ ¯¬¯¦¯_ôÄ¯¤¯» ôö¯_¯«ô_¯© ôö ¯«¯_ôö¯± ¯_ôâô_¯± ¯¬¯¤ôã¯»¯«ôô_ôÉô  ¯£ô ¯¤ ôã¯£ôâô_ôÉ ¯¡ôãôÄ ¯£ô_ôà¯¤ ¯¤ôãôâ¯±¯¤¯Á ¯¤ôã¯£¯_¯_¯¤¯Á¯Ù')"
   ]
  },
  {
   "cell_type": "code",
   "execution_count": 39,
   "metadata": {},
   "outputs": [
    {
     "data": {
      "text/plain": [
       "'vi'"
      ]
     },
     "execution_count": 39,
     "metadata": {},
     "output_type": "execute_result"
    }
   ],
   "source": [
    "detect('¯¤¯_¯øôä ¯¤ôãôÉ¯¨¯áôöô¯¤¯» ôã¯øô_ôà¯¤ ¯_ôã¯¤ôâ¯© ôÉ¯_ ¯¤ôãôÄ¯¤¯»¯¬ ¯¤ôã¯_¯üô_ôÉ ôÉ¯¤¯±ôÄô_¯_ ôö¯áôã¯¬¯» ôÉô ôà ¯»¯£ôãô_ô ôÄ¯»¯¤¯¬ ¯_ô  ¯¤¯¨¯»¯á¯¤ôôà¯¤ ôàô_ ôö¯«ôâô_ôâ¯© ¯_ôö¯Âôà¯¤.ôÄ¯¤ô  ôÉô  ¯¤ôãôÉôÉôÄô  ¯¤ô  ô_ôÄôöô  ôÄ¯»¯¤¯¬¯¤ ¯_¯¤¯øô_¯¤ ôöôãôÄô  ¯¤ôÄ¯»¯«ô ¯¤ô  ¯ü¯±ôöô ¯¤¯¨¯»¯á¯¤ôôà¯¤ ôã¯¤ ô_ôÉôÄô  ô¯µôãôà¯¤ ¯_ô  ¯ü¯±ôöô ¯¤ôã¯¤¯¨¯»¯á¯¤ô¯¤¯» ¯¤ôã¯¤¯¨¯±ôä ôö¯¤ôã¯»ô_ ôÄ¯¤ô ¯» ôÉ¯ÂôÉôö¯_ôà¯¤ ¯_¯«¯±¯© ¯£¯«¯¨¯¤¯µ.ô_¯±ôÄ¯_ ¯¤ôãôÉ¯ü¯_ôãô ¯_ôãôä ¯ü¯±ôöô ¯¤ôã¯¤¯¨¯»¯á¯¤ô ôö¯¤ôãôÉ¯_¯¤ôÉôã¯© ¯¤ôã¯»ô_ ôÄ¯¤ô ¯» ô_¯»ôãôâ¯¤ôà¯¤ ¯¤ôãôÉ¯¨¯áôöôô_ô  ôÉ¯_ ¯¤ôã¯_¯±¯¤¯')"
   ]
  },
  {
   "cell_type": "markdown",
   "metadata": {},
   "source": [
    "**Since both the cases ,get detected as vietnamese ..we ca safely ignore them and carry on with further steps. **"
   ]
  },
  {
   "cell_type": "code",
   "execution_count": 37,
   "metadata": {},
   "outputs": [
    {
     "name": "stdout",
     "output_type": "stream",
     "text": [
      "118886\n",
      "9501\n"
     ]
    }
   ],
   "source": [
    "from langdetect import detect,detect_langs\n",
    "sum = 0 \n",
    "alt_lan =0\n",
    "for review in datan.review:\n",
    "    if detect(review)=='en': \n",
    "        sum+=1\n",
    "    else:\n",
    "        alt_lan+=1\n",
    "\n",
    "print(sum) \n",
    "print(alt_lan)\n",
    "# detect_langs('teri maa ')"
   ]
  },
  {
   "cell_type": "markdown",
   "metadata": {},
   "source": [
    "*** there are total 9501 values in the data set that are calssified as the ohter than english that include some unicode conversion/scraping errors ***"
   ]
  },
  {
   "cell_type": "code",
   "execution_count": 33,
   "metadata": {},
   "outputs": [
    {
     "data": {
      "text/plain": [
       "234194    A collection of Perrin's essays not to be foun...\n",
       "235301    Haven't read the whole thing yet, but this boo...\n",
       "268759    In my view, this is one of the best books of t...\n",
       "6534      I wish I could've seen what performances of th...\n",
       "37756     This is an audio recording of several seminars...\n",
       "Name: review, dtype: object"
      ]
     },
     "execution_count": 33,
     "metadata": {},
     "output_type": "execute_result"
    }
   ],
   "source": [
    "train.review"
   ]
  },
  {
   "cell_type": "code",
   "execution_count": 66,
   "metadata": {},
   "outputs": [
    {
     "data": {
      "text/plain": [
       "Int64Index([128853,  47933,  15605,  36978,  93158, 171806, 163169, 137506,\n",
       "             26343, 126771,\n",
       "            ...\n",
       "             81331, 276057, 101464, 159043,  87754, 271310, 247461,  22386,\n",
       "               550, 115984],\n",
       "           dtype='int64', length=25668)"
      ]
     },
     "execution_count": 66,
     "metadata": {},
     "output_type": "execute_result"
    }
   ],
   "source": [
    "test.index[10:]\n",
    "#test.head(1)"
   ]
  },
  {
   "cell_type": "code",
   "execution_count": 57,
   "metadata": {},
   "outputs": [
    {
     "data": {
      "text/plain": [
       "[<function str.index>,\n",
       " <function str.index>,\n",
       " <function str.index>,\n",
       " <function str.index>]"
      ]
     },
     "execution_count": 57,
     "metadata": {},
     "output_type": "execute_result"
    }
   ],
   "source": [
    "en =[]\n",
    "for review in test.review.head(5):\n",
    "    if detect(review)=='en': \n",
    "       en.append(review.index)\n",
    "    else:\n",
    "        alt_lan+=1\n",
    "en"
   ]
  },
  {
   "cell_type": "code",
   "execution_count": 58,
   "metadata": {},
   "outputs": [
    {
     "data": {
      "text/plain": [
       "4"
      ]
     },
     "execution_count": 58,
     "metadata": {},
     "output_type": "execute_result"
    }
   ],
   "source": [
    "len(en)"
   ]
  },
  {
   "cell_type": "code",
   "execution_count": 59,
   "metadata": {},
   "outputs": [
    {
     "data": {
      "text/plain": [
       "<function str.index>"
      ]
     },
     "execution_count": 59,
     "metadata": {},
     "output_type": "execute_result"
    }
   ],
   "source": [
    "en[1]"
   ]
  },
  {
   "cell_type": "code",
   "execution_count": 11,
   "metadata": {
    "collapsed": true
   },
   "outputs": [],
   "source": [
    "from textblob import TextBlob as tb\n",
    "wiki = TextBlob(\"Python is a high-level ,general purpose programming language \")"
   ]
  },
  {
   "cell_type": "code",
   "execution_count": 12,
   "metadata": {},
   "outputs": [
    {
     "data": {
      "text/plain": [
       "[('Python', 'NNP'),\n",
       " ('is', 'VBZ'),\n",
       " ('a', 'DT'),\n",
       " ('high-level', 'JJ'),\n",
       " ('general', 'JJ'),\n",
       " ('purpose', 'NN'),\n",
       " ('programming', 'NN'),\n",
       " ('language', 'NN')]"
      ]
     },
     "execution_count": 12,
     "metadata": {},
     "output_type": "execute_result"
    }
   ],
   "source": [
    "#Parts of speech tagging . \n",
    "wiki.tags"
   ]
  },
  {
   "cell_type": "code",
   "execution_count": 13,
   "metadata": {},
   "outputs": [
    {
     "data": {
      "text/plain": [
       "WordList(['python', 'general purpose'])"
      ]
     },
     "execution_count": 13,
     "metadata": {},
     "output_type": "execute_result"
    }
   ],
   "source": [
    "wiki.noun_phrases"
   ]
  },
  {
   "cell_type": "code",
   "execution_count": 17,
   "metadata": {
    "collapsed": true
   },
   "outputs": [],
   "source": [
    "test = TextBlob(\"I have been feeling pumped lately , you know \")\n",
    "a = TextBlob(\"You looks so great today , baby ! \")"
   ]
  },
  {
   "cell_type": "code",
   "execution_count": 19,
   "metadata": {},
   "outputs": [
    {
     "data": {
      "text/plain": [
       "Sentiment(polarity=1.0, subjectivity=0.75)"
      ]
     },
     "execution_count": 19,
     "metadata": {},
     "output_type": "execute_result"
    }
   ],
   "source": [
    "# test.sentiment.subjectivity\n",
    "a.sentiment"
   ]
  },
  {
   "cell_type": "code",
   "execution_count": 20,
   "metadata": {},
   "outputs": [
    {
     "data": {
      "text/plain": [
       "WordList(['You', 'looks', 'so', 'great', 'today', 'baby'])"
      ]
     },
     "execution_count": 20,
     "metadata": {},
     "output_type": "execute_result"
    }
   ],
   "source": [
    "a.words"
   ]
  },
  {
   "cell_type": "code",
   "execution_count": 24,
   "metadata": {},
   "outputs": [
    {
     "data": {
      "text/plain": [
       "'I'"
      ]
     },
     "execution_count": 24,
     "metadata": {},
     "output_type": "execute_result"
    }
   ],
   "source": [
    "test.words[0]"
   ]
  },
  {
   "cell_type": "code",
   "execution_count": 32,
   "metadata": {
    "collapsed": true
   },
   "outputs": [],
   "source": [
    "las = TextBlob(\"There is a time when legends will rule. Till then the niggas roll . This is a good day to die.\" )\n",
    "                    "
   ]
  },
  {
   "cell_type": "code",
   "execution_count": 33,
   "metadata": {},
   "outputs": [
    {
     "data": {
      "text/plain": [
       "WordList(['There', 'is', 'a', 'time', 'when', 'legends', 'will', 'rule', 'Till', 'then', 'the', 'niggas', 'roll', 'This', 'is', 'a', 'good', 'day', 'to', 'die'])"
      ]
     },
     "execution_count": 33,
     "metadata": {},
     "output_type": "execute_result"
    }
   ],
   "source": [
    "las.words"
   ]
  },
  {
   "cell_type": "code",
   "execution_count": 34,
   "metadata": {},
   "outputs": [
    {
     "data": {
      "text/plain": [
       "[Sentence(\"There is a time when legends will rule.\"),\n",
       " Sentence(\"Till then the niggas roll .\"),\n",
       " Sentence(\"This is a good day to die.\")]"
      ]
     },
     "execution_count": 34,
     "metadata": {},
     "output_type": "execute_result"
    }
   ],
   "source": [
    "las.sentences"
   ]
  },
  {
   "cell_type": "code",
   "execution_count": 64,
   "metadata": {},
   "outputs": [
    {
     "name": "stdout",
     "output_type": "stream",
     "text": [
      "I have a good feeling\n"
     ]
    }
   ],
   "source": [
    "b =TextBlob(\"I have aa goood feling\")\n",
    "print(b.correct())\n",
    "        \n",
    "   "
   ]
  },
  {
   "cell_type": "code",
   "execution_count": 67,
   "metadata": {
    "collapsed": true
   },
   "outputs": [],
   "source": [
    "from textblob import Word"
   ]
  },
  {
   "cell_type": "code",
   "execution_count": 70,
   "metadata": {},
   "outputs": [
    {
     "name": "stdout",
     "output_type": "stream",
     "text": [
      "[('I have aa goood feling', 0.0)]\n"
     ]
    }
   ],
   "source": [
    "b = Word(\"I have aa goood feling\")\n",
    "print(b.spellcheck())"
   ]
  },
  {
   "cell_type": "code",
   "execution_count": 73,
   "metadata": {},
   "outputs": [
    {
     "data": {
      "text/plain": [
       "[('negation', 1.0)]"
      ]
     },
     "execution_count": 73,
     "metadata": {},
     "output_type": "execute_result"
    }
   ],
   "source": [
    "l =Word('negastion')\n",
    "l.spellcheck()"
   ]
  },
  {
   "cell_type": "code",
   "execution_count": 75,
   "metadata": {},
   "outputs": [
    {
     "name": "stdout",
     "output_type": "stream",
     "text": [
      "['tied', 'ties', 'tis', 'bed', 'cities', 'city', 'talking', 'relational']\n"
     ]
    }
   ],
   "source": [
    "from nltk.stem import PorterStemmer\n",
    "porter = PorterStemmer()\n",
    "types = ['tied', 'ties', 'tis', 'bed', 'cities', 'city', 'talking', 'relational']\n",
    "print(types)\n"
   ]
  },
  {
   "cell_type": "code",
   "execution_count": 79,
   "metadata": {},
   "outputs": [
    {
     "name": "stdout",
     "output_type": "stream",
     "text": [
      "tie\n",
      "tie\n",
      "ti\n",
      "bed\n",
      "citi\n",
      "citi\n",
      "talk\n",
      "relat\n"
     ]
    }
   ],
   "source": [
    "for x in types:\n",
    "    print(porter.stem(x))"
   ]
  },
  {
   "cell_type": "code",
   "execution_count": 90,
   "metadata": {
    "collapsed": true
   },
   "outputs": [],
   "source": [
    "u = ['running', 'cried', 'slept', 'bed']\n"
   ]
  },
  {
   "cell_type": "code",
   "execution_count": 91,
   "metadata": {
    "scrolled": true
   },
   "outputs": [
    {
     "name": "stdout",
     "output_type": "stream",
     "text": [
      "run\n",
      "cri\n",
      "slept\n",
      "bed\n"
     ]
    }
   ],
   "source": [
    "for i in u:\n",
    "    print(porter.stem(i))\n",
    "\n"
   ]
  },
  {
   "cell_type": "code",
   "execution_count": null,
   "metadata": {
    "collapsed": true
   },
   "outputs": [],
   "source": []
  },
  {
   "cell_type": "code",
   "execution_count": null,
   "metadata": {
    "collapsed": true
   },
   "outputs": [],
   "source": []
  },
  {
   "cell_type": "code",
   "execution_count": null,
   "metadata": {
    "collapsed": true
   },
   "outputs": [],
   "source": []
  },
  {
   "cell_type": "code",
   "execution_count": null,
   "metadata": {
    "collapsed": true
   },
   "outputs": [],
   "source": []
  },
  {
   "cell_type": "code",
   "execution_count": null,
   "metadata": {
    "collapsed": true
   },
   "outputs": [],
   "source": []
  },
  {
   "cell_type": "code",
   "execution_count": null,
   "metadata": {
    "collapsed": true
   },
   "outputs": [],
   "source": []
  },
  {
   "cell_type": "code",
   "execution_count": null,
   "metadata": {
    "collapsed": true
   },
   "outputs": [],
   "source": []
  },
  {
   "cell_type": "code",
   "execution_count": null,
   "metadata": {
    "collapsed": true
   },
   "outputs": [],
   "source": []
  }
 ],
 "metadata": {
  "kernelspec": {
   "display_name": "Python 3",
   "language": "python",
   "name": "python3"
  },
  "language_info": {
   "codemirror_mode": {
    "name": "ipython",
    "version": 3
   },
   "file_extension": ".py",
   "mimetype": "text/x-python",
   "name": "python",
   "nbconvert_exporter": "python",
   "pygments_lexer": "ipython3",
   "version": "3.6.3"
  }
 },
 "nbformat": 4,
 "nbformat_minor": 2
}
